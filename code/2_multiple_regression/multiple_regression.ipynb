{
 "cells": [
  {
   "cell_type": "code",
   "execution_count": 1,
   "metadata": {},
   "outputs": [],
   "source": [
    "# Importing packages\n",
    "import numpy as np\n",
    "import pandas as pd\n",
    "import matplotlib.pyplot as plt\n",
    "import seaborn as sns\n",
    "import sklearn\n",
    "from sklearn.linear_model import LinearRegression\n",
    "\n",
    "# To plot pretty figures directly within Jupyter\n",
    "%matplotlib inline\n",
    "import matplotlib as mpl\n",
    "mpl.rc('axes', labelsize=20)\n",
    "mpl.rc('xtick', labelsize=20)\n",
    "mpl.rc('ytick', labelsize=20)\n"
   ]
  },
  {
   "cell_type": "code",
   "execution_count": null,
   "metadata": {},
   "outputs": [],
   "source": [
    "# Loading Data\n",
    "\n",
    "# Satisfaction Data\n",
    "# https://stats.oecd.org/index.aspx?DataSetCode=BLI#\n",
    "# Load data, extract interesting values, save reduced one\n",
    "dat = pd.read_csv('/Users/dj/Documents/GitHub/project-neurocloud/data/happiness/satisfaction.csv')\n",
    "sat = dat.loc[dat.Indicator == \"Life satisfaction\", :]\n",
    "sat = sat.loc[sat.INEQUALITY == 'TOT', : ]\n",
    "sat = sat.loc[sat.INDICATOR == 'SW_LIFS', : ]\n",
    "sat = sat.loc[sat.Unit == 'Average score', : ]\n",
    "sat = sat.loc[:, ['LOCATION', 'Country', 'Value']]\n",
    "sat = sat.rename(columns={\"Value\": \"Satisfaction\"})\n",
    "\n",
    "# GDP Data\n",
    "# https://data.oecd.org/gdp/gross-domestic-product-gdp.htm\n",
    "dat = pd.read_csv('/Users/dj/Documents/GitHub/project-neurocloud/data/happiness/GDP.csv')\n",
    "gdp2 = dat.loc[dat.TIME == 2020, :]\n",
    "gdp3 = gdp2.loc[gdp2.MEASURE == 'USD_CAP', :]\n",
    "gdp = gdp3.loc[:, ['LOCATION','Value']]\n",
    "gdp = gdp.rename(columns={\"Value\": \"GDP\"})"
   ]
  },
  {
   "cell_type": "code",
   "execution_count": null,
   "metadata": {},
   "outputs": [],
   "source": []
  },
  {
   "cell_type": "code",
   "execution_count": null,
   "metadata": {},
   "outputs": [],
   "source": []
  },
  {
   "cell_type": "code",
   "execution_count": null,
   "metadata": {},
   "outputs": [],
   "source": []
  },
  {
   "cell_type": "code",
   "execution_count": null,
   "metadata": {},
   "outputs": [],
   "source": []
  },
  {
   "cell_type": "code",
   "execution_count": null,
   "metadata": {},
   "outputs": [],
   "source": []
  }
 ],
 "metadata": {
  "kernelspec": {
   "display_name": "neurocloud",
   "language": "python",
   "name": "python3"
  },
  "language_info": {
   "codemirror_mode": {
    "name": "ipython",
    "version": 3
   },
   "file_extension": ".py",
   "mimetype": "text/x-python",
   "name": "python",
   "nbconvert_exporter": "python",
   "pygments_lexer": "ipython3",
   "version": "3.7.15"
  },
  "orig_nbformat": 4,
  "vscode": {
   "interpreter": {
    "hash": "b9a886b6fef601512b76c222e1a06c41e405169671653afcab135c280074febe"
   }
  }
 },
 "nbformat": 4,
 "nbformat_minor": 2
}
